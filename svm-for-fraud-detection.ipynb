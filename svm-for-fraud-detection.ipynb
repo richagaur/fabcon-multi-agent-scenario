{
 "cells": [
  {
   "cell_type": "code",
   "execution_count": 112,
   "metadata": {},
   "outputs": [],
   "source": [
    "import pandas as pd\n",
    "import random\n",
    "from datetime import datetime, timedelta\n",
    "from pymongo import MongoClient\n",
    "from azure.core.exceptions import AzureError\n",
    "from azure.core.credentials import AzureKeyCredential\n",
    "import json\n",
    "import urllib \n",
    "from openai import AzureOpenAI\n",
    "from dotenv import dotenv_values\n",
    "import os\n",
    "config = dotenv_values()"
   ]
  },
  {
   "cell_type": "code",
   "execution_count": 113,
   "metadata": {},
   "outputs": [
    {
     "data": {
      "text/plain": [
       "True"
      ]
     },
     "execution_count": 113,
     "metadata": {},
     "output_type": "execute_result"
    }
   ],
   "source": [
    "from dotenv import load_dotenv\n",
    "\n",
    "load_dotenv(\"variable.env\", override=True)"
   ]
  },
  {
   "cell_type": "code",
   "execution_count": 117,
   "metadata": {},
   "outputs": [],
   "source": [
    "from urllib.parse import quote_plus\n",
    "\n",
    "MONGO_CONNECTION_STRING= os.getenv(\"MONGO_CONNECTION_STRING\", \"<YOUR-COSMOS-DB-CONNECTION-STRING>\")\n",
    "AOAI_KEY = quote_plus(os.getenv(\"AOAI_KEY\"))\n",
    "AOAI_ENDPOINT =  quote_plus(os.getenv(\"AOAI_ENDPOINT\"))\n",
    "API_VERSION =  quote_plus(os.getenv(\"API_VERSION\"))\n",
    "AOAI_EMBEDDING_DEPLOYMENT =  quote_plus(os.getenv(\"AOAI_EMBEDDING_DEPLOYMENT\"))\n",
    "AOAI_EMBEDDING_DEPLOYMENT_MODEL =  quote_plus(os.getenv(\"AOAI_EMBEDDING_DEPLOYMENT_MODEL\"))\n",
    "\n",
    "\n",
    "client = AzureOpenAI(\n",
    "  azure_endpoint= AOAI_ENDPOINT,\n",
    "  api_key=AOAI_KEY,  \n",
    "  api_version=API_VERSION\n",
    ")"
   ]
  },
  {
   "cell_type": "code",
   "execution_count": 13,
   "metadata": {},
   "outputs": [],
   "source": [
    "def generate_embedding(text):\n",
    "    response = client.embeddings.create(\n",
    "        model=AOAI_EMBEDDING_DEPLOYMENT_MODEL,\n",
    "        input=text\n",
    "    )\n",
    "    return response.data[0].embedding"
   ]
  },
  {
   "cell_type": "code",
   "execution_count": 118,
   "metadata": {},
   "outputs": [
    {
     "name": "stderr",
     "output_type": "stream",
     "text": [
      "C:\\Users\\Khelan Modi\\AppData\\Local\\Temp\\ipykernel_21032\\3004906609.py:2: UserWarning: You appear to be connected to a CosmosDB cluster. For more information regarding feature compatibility and support please visit https://www.mongodb.com/supportability/cosmosdb\n",
      "  mongo_client = MongoClient(mongo_conn)\n"
     ]
    },
    {
     "name": "stdout",
     "output_type": "stream",
     "text": [
      "Using collection: 'transactions'.\n",
      "\n"
     ]
    }
   ],
   "source": [
    "mongo_conn = MONGO_CONNECTION_STRING\n",
    "mongo_client = MongoClient(mongo_conn)\n",
    "\n",
    "db = mongo_client['account']\n",
    "\n",
    "# Create collection if it doesn't exist\n",
    "COLLECTION_NAME = \"transactions\"\n",
    "\n",
    "collection = db[COLLECTION_NAME]\n",
    "\n",
    "if COLLECTION_NAME not in db.list_collection_names():\n",
    "    db.create_collection(COLLECTION_NAME)\n",
    "    print(\"Created collection '{}'.\\n\".format(COLLECTION_NAME))\n",
    "else:\n",
    "    print(\"Using collection: '{}'.\\n\".format(COLLECTION_NAME))"
   ]
  },
  {
   "cell_type": "code",
   "execution_count": 81,
   "metadata": {},
   "outputs": [
    {
     "data": {
      "text/plain": [
       "{'raw': {'defaultShard': {'numIndexesBefore': 1,\n",
       "   'numIndexesAfter': 2,\n",
       "   'createdCollectionAutomatically': False,\n",
       "   'ok': 1}},\n",
       " 'ok': 1}"
      ]
     },
     "execution_count": 81,
     "metadata": {},
     "output_type": "execute_result"
    }
   ],
   "source": [
    "db.command({\n",
    "  'createIndexes': 'transactions',\n",
    "  'indexes': [\n",
    "    {\n",
    "      'name': 'transactionsIndex',\n",
    "      'key': {\n",
    "        \"Embedding\": \"cosmosSearch\"\n",
    "      },\n",
    "      'cosmosSearchOptions': {\n",
    "        'kind': 'vector-hnsw',\n",
    "        'numLists': 1,\n",
    "        'similarity': 'COS',\n",
    "        'dimensions': 1536\n",
    "      }\n",
    "    }\n",
    "  ]\n",
    "})"
   ]
  },
  {
   "cell_type": "code",
   "execution_count": 78,
   "metadata": {},
   "outputs": [
    {
     "data": {
      "text/plain": [
       "{'nIndexesWas': 2, 'ok': 1.0}"
      ]
     },
     "execution_count": 78,
     "metadata": {},
     "output_type": "execute_result"
    }
   ],
   "source": [
    "db.command({'dropIndexes': 'transactions', 'index': 'transactionsIndex'})"
   ]
  },
  {
   "cell_type": "code",
   "execution_count": 62,
   "metadata": {},
   "outputs": [
    {
     "data": {
      "text/plain": [
       "DeleteResult({'n': 100, 'ok': 1.0}, acknowledged=True)"
      ]
     },
     "execution_count": 62,
     "metadata": {},
     "output_type": "execute_result"
    }
   ],
   "source": [
    "collection.delete_many({})"
   ]
  },
  {
   "cell_type": "code",
   "execution_count": 63,
   "metadata": {},
   "outputs": [
    {
     "name": "stdout",
     "output_type": "stream",
     "text": [
      "Data uploaded successfully!\n"
     ]
    }
   ],
   "source": [
    "collection.insert_many(embeddings)\n",
    "\n",
    "print(\"Data uploaded successfully!\")"
   ]
  },
  {
   "cell_type": "code",
   "execution_count": 108,
   "metadata": {},
   "outputs": [],
   "source": [
    "def vector_search(new_transaction, num_results=5):\n",
    "    # Generate the embedding for the new transaction\n",
    "    query_embedding = generate_embedding(new_transaction)\n",
    "\n",
    "    # Define the search pipeline with vector search using the `Embedding` field\n",
    "    pipeline = [\n",
    "        {\n",
    "            '$search': {\n",
    "                \"cosmosSearch\": {\n",
    "                    \"vector\": query_embedding,  # The query vector (embedding of the new transaction)\n",
    "                    \"path\": \"Embedding\",  # The field that contains embeddings in the collection\n",
    "                    \"k\": num_results  # Number of results to return\n",
    "                },\n",
    "                \"returnStoredSource\": True\n",
    "            }\n",
    "        },\n",
    "        {\n",
    "            '$project': {\n",
    "                'similarityScore': { '$meta': 'searchScore' },  # Project the similarity score\n",
    "                'TransactionID': 1,  # Project relevant fields\n",
    "                'Amount': 1,\n",
    "                'Timestamp': 1,\n",
    "                'Location': 1,\n",
    "                'Merchant': 1,\n",
    "                'Fraud': 1\n",
    "            }\n",
    "        }\n",
    "    ]\n",
    "\n",
    "    # Execute the aggregation pipeline in Cosmos DB\n",
    "    results = collection.aggregate(pipeline)\n",
    "    \n",
    "    \n",
    "    return results\n",
    "\n"
   ]
  },
  {
   "cell_type": "code",
   "execution_count": 109,
   "metadata": {},
   "outputs": [
    {
     "name": "stdout",
     "output_type": "stream",
     "text": [
      "{'_id': ObjectId('66e75576b5224a4bb5787440'), 'TransactionID': 'T6345', 'Amount': 60.86, 'Timestamp': '2024-09-15 13:58:38', 'Location': 'Texas', 'Merchant': 'Unrecognized Merchant', 'Fraud': True, 'similarityScore': 0.859049030996715}\n",
      "{'_id': ObjectId('66e75576b5224a4bb5787484'), 'TransactionID': 'T6029', 'Amount': 22.22, 'Timestamp': '2024-09-15 14:20:38', 'Location': 'Texas', 'Merchant': 'Unrecognized Merchant', 'Fraud': True, 'similarityScore': 0.8586209416389526}\n",
      "{'_id': ObjectId('66e75576b5224a4bb578746b'), 'TransactionID': 'T1805', 'Amount': 27.51, 'Timestamp': '2024-09-15 14:27:38', 'Location': 'Texas', 'Merchant': 'Random Store', 'Fraud': True, 'similarityScore': 0.8523443253245563}\n",
      "{'_id': ObjectId('66e75576b5224a4bb578748f'), 'TransactionID': 'T1263', 'Amount': 10.66, 'Timestamp': '2024-09-15 14:21:38', 'Location': 'Texas', 'Merchant': 'Unrecognized Merchant', 'Fraud': True, 'similarityScore': 0.8517198054957642}\n",
      "{'_id': ObjectId('66e75576b5224a4bb5787485'), 'TransactionID': 'T4384', 'Amount': 11.55, 'Timestamp': '2024-09-15 14:37:38', 'Location': 'Texas', 'Merchant': 'Supplement Store', 'Fraud': True, 'similarityScore': 0.8503234208015705}\n",
      "TransactionID: T5978, Location: Mexico, Merchant: Walmart\n"
     ]
    }
   ],
   "source": [
    "# Example new transaction (replace with actual transaction data)\n",
    "new_transaction = {\n",
    "    \"TransactionID\": \"T5978\",\n",
    "    \"Amount\": 15.00,\n",
    "    \"Timestamp\": \"2024-09-15 14:30:00\",\n",
    "    \"Location\": \"Mexico\",\n",
    "    \"Merchant\": \"Walmart\"\n",
    "}\n",
    "\n",
    "new_transaction_text=f\"TransactionID: {new_transaction['TransactionID']}, Timestamp: {new_transaction['Timestamp']}, Location: {new_transaction['Location']}\"\n",
    "\n",
    "# Perform the vector search and get the top 5 most similar fraudulent transactions\n",
    "results = vector_search(new_transaction_text, num_results=5)\n",
    "# Output results\n",
    "for r in results:\n",
    "    print(r) \n",
    "print(f\"TransactionID: {new_transaction['TransactionID']}, Location: {new_transaction['Location']}, Merchant: {new_transaction['Merchant']}\")\n"
   ]
  },
  {
   "cell_type": "code",
   "execution_count": null,
   "metadata": {},
   "outputs": [],
   "source": [
    "# TODO currently using location as a primary for vector search"
   ]
  }
 ],
 "metadata": {
  "kernelspec": {
   "display_name": "Python 3",
   "language": "python",
   "name": "python3"
  },
  "language_info": {
   "codemirror_mode": {
    "name": "ipython",
    "version": 3
   },
   "file_extension": ".py",
   "mimetype": "text/x-python",
   "name": "python",
   "nbconvert_exporter": "python",
   "pygments_lexer": "ipython3",
   "version": "3.11.9"
  }
 },
 "nbformat": 4,
 "nbformat_minor": 2
}
