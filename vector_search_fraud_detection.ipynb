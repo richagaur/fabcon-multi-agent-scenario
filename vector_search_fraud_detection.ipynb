{
 "cells": [
  {
   "cell_type": "code",
   "execution_count": 2,
   "metadata": {},
   "outputs": [],
   "source": [
    "import pandas as pd\n",
    "import random\n",
    "from datetime import datetime, timedelta\n",
    "from pymongo import MongoClient\n",
    "from azure.core.exceptions import AzureError\n",
    "from azure.core.credentials import AzureKeyCredential\n",
    "import json\n",
    "import urllib \n",
    "from openai import AzureOpenAI\n",
    "from dotenv import dotenv_values\n",
    "import os\n",
    "config = dotenv_values()"
   ]
  },
  {
   "cell_type": "code",
   "execution_count": 3,
   "metadata": {},
   "outputs": [
    {
     "data": {
      "text/plain": [
       "True"
      ]
     },
     "execution_count": 3,
     "metadata": {},
     "output_type": "execute_result"
    }
   ],
   "source": [
    "from dotenv import load_dotenv\n",
    "\n",
    "load_dotenv(\"variable.env\", override=True)"
   ]
  },
  {
   "cell_type": "code",
   "execution_count": 4,
   "metadata": {},
   "outputs": [],
   "source": [
    "from urllib.parse import quote_plus\n",
    "\n",
    "MONGO_CONNECTION_STRING= os.getenv(\"MONGO_CONNECTION_STRING\", \"<YOUR-COSMOS-DB-CONNECTION-STRING>\")\n",
    "AOAI_KEY = os.getenv(\"AOAI_KEY\")\n",
    "AOAI_ENDPOINT =  os.getenv(\"AOAI_ENDPOINT\")\n",
    "API_VERSION =  os.getenv(\"API_VERSION\")\n",
    "AOAI_EMBEDDING_DEPLOYMENT =  os.getenv(\"AOAI_EMBEDDING_DEPLOYMENT\")\n",
    "AOAI_EMBEDDING_DEPLOYMENT_MODEL =  os.getenv(\"AOAI_EMBEDDING_DEPLOYMENT_MODEL\")\n",
    "\n",
    "\n",
    "client = AzureOpenAI(\n",
    "  azure_endpoint= AOAI_ENDPOINT,\n",
    "  api_key=AOAI_KEY,  \n",
    "  api_version=API_VERSION\n",
    ")"
   ]
  },
  {
   "cell_type": "code",
   "execution_count": 7,
   "metadata": {},
   "outputs": [],
   "source": [
    "def generate_embedding(text):\n",
    "    response = client.embeddings.create(\n",
    "        model=AOAI_EMBEDDING_DEPLOYMENT_MODEL,\n",
    "        input=text\n",
    "    )\n",
    "    return response.data[0].embedding"
   ]
  },
  {
   "cell_type": "code",
   "execution_count": 5,
   "metadata": {},
   "outputs": [
    {
     "name": "stderr",
     "output_type": "stream",
     "text": [
      "C:\\Users\\Khelan Modi\\AppData\\Local\\Temp\\ipykernel_18368\\3004906609.py:2: UserWarning: You appear to be connected to a CosmosDB cluster. For more information regarding feature compatibility and support please visit https://www.mongodb.com/supportability/cosmosdb\n",
      "  mongo_client = MongoClient(mongo_conn)\n"
     ]
    },
    {
     "name": "stdout",
     "output_type": "stream",
     "text": [
      "Using collection: 'transactions'.\n",
      "\n"
     ]
    }
   ],
   "source": [
    "mongo_conn = MONGO_CONNECTION_STRING\n",
    "mongo_client = MongoClient(mongo_conn)\n",
    "\n",
    "db = mongo_client['account']\n",
    "\n",
    "# Create collection if it doesn't exist\n",
    "COLLECTION_NAME = \"transactions\"\n",
    "\n",
    "collection = db[COLLECTION_NAME]\n",
    "\n",
    "if COLLECTION_NAME not in db.list_collection_names():\n",
    "    db.create_collection(COLLECTION_NAME)\n",
    "    print(\"Created collection '{}'.\\n\".format(COLLECTION_NAME))\n",
    "else:\n",
    "    print(\"Using collection: '{}'.\\n\".format(COLLECTION_NAME))"
   ]
  },
  {
   "cell_type": "code",
   "execution_count": 8,
   "metadata": {},
   "outputs": [
    {
     "name": "stdout",
     "output_type": "stream",
     "text": [
      "  TransactionID  Amount            Timestamp  Location   Merchant  Fraud\n",
      "0         T7037  406.12  2024-09-15 13:50:38    Boston       Lyft  False\n",
      "1         T2243  165.86  2024-09-15 14:23:38  New York  Starbucks  False\n",
      "2         T7356  360.73  2024-09-15 14:04:38  New York     Amazon  False\n",
      "3         T3235  282.75  2024-09-15 14:28:38    Boston     Amazon  False\n",
      "4         T5109  108.79  2024-09-15 14:02:38    Boston       Lyft  False\n"
     ]
    }
   ],
   "source": [
    "# Load JSON data from file\n",
    "with open(\"test.json\", 'r') as file:\n",
    "    data = json.load(file)\n",
    "\n",
    "# Remove _id field from each item\n",
    "data = [{k: v for k, v in item.items() if k != '_id'} for item in data]\n",
    "\n",
    "df = pd.DataFrame(data, columns= [\"TransactionID\",\n",
    "        \"Amount\",\n",
    "        \"Timestamp\",\n",
    "        \"Location\",\n",
    "        \"Merchant\",\n",
    "        \"Fraud\"])\n",
    "# Print the cleaned data\n",
    "print(df.head())\n",
    "\n",
    "\n",
    "# List to store embeddings along with transaction details\n",
    "embeddings = []\n",
    "\n",
    "# Loop through each record in the JSON data and generate embeddings\n",
    "for index, row in df.iterrows():\n",
    "    # Combine relevant fields into a single text input for embedding generation\n",
    "    text = f\"TransactionID: {row['TransactionID']}, Amount: {row['Amount']}, Timestamp: {row['Timestamp']}, Location: {row['Location']}, Merchant: {row['Merchant']}\"\n",
    "    \n",
    "    # Generate embedding based on the text\n",
    "    embedding = generate_embedding(text)\n",
    "    \n",
    "    # Append the result (transaction + embedding) to the embeddings list\n",
    "    embeddings.append({\n",
    "        \"TransactionID\": row[\"TransactionID\"],\n",
    "        \"Amount\": row[\"Amount\"],\n",
    "        \"Timestamp\": str(row[\"Timestamp\"]),  # Convert Timestamp to string for consistency\n",
    "        \"Location\": row[\"Location\"],\n",
    "        \"Merchant\": row[\"Merchant\"],\n",
    "        \"Fraud\": row[\"Fraud\"],\n",
    "        \"Embedding\": embedding\n",
    "    })\n",
    "    \n",
    "with open(\"transactions_with_embeddings.json\", \"w\") as f:\n",
    "    json.dump(embeddings, f, indent=4)"
   ]
  },
  {
   "cell_type": "code",
   "execution_count": 81,
   "metadata": {},
   "outputs": [
    {
     "data": {
      "text/plain": [
       "{'raw': {'defaultShard': {'numIndexesBefore': 1,\n",
       "   'numIndexesAfter': 2,\n",
       "   'createdCollectionAutomatically': False,\n",
       "   'ok': 1}},\n",
       " 'ok': 1}"
      ]
     },
     "execution_count": 81,
     "metadata": {},
     "output_type": "execute_result"
    }
   ],
   "source": [
    "db.command({\n",
    "  'createIndexes': 'transactions',\n",
    "  'indexes': [\n",
    "    {\n",
    "      'name': 'transactionsIndex',\n",
    "      'key': {\n",
    "        \"Embedding\": \"cosmosSearch\"\n",
    "      },\n",
    "      'cosmosSearchOptions': {\n",
    "        'kind': 'vector-hnsw',\n",
    "        'numLists': 1,\n",
    "        'similarity': 'COS',\n",
    "        'dimensions': 1536\n",
    "      }\n",
    "    }\n",
    "  ]\n",
    "})"
   ]
  },
  {
   "cell_type": "code",
   "execution_count": 78,
   "metadata": {},
   "outputs": [
    {
     "data": {
      "text/plain": [
       "{'nIndexesWas': 2, 'ok': 1.0}"
      ]
     },
     "execution_count": 78,
     "metadata": {},
     "output_type": "execute_result"
    }
   ],
   "source": [
    "db.command({'dropIndexes': 'transactions', 'index': 'transactionsIndex'})"
   ]
  },
  {
   "cell_type": "code",
   "execution_count": 9,
   "metadata": {},
   "outputs": [
    {
     "data": {
      "text/plain": [
       "DeleteResult({'n': 100, 'ok': 1.0}, acknowledged=True)"
      ]
     },
     "execution_count": 9,
     "metadata": {},
     "output_type": "execute_result"
    }
   ],
   "source": [
    "collection.delete_many({})"
   ]
  },
  {
   "cell_type": "code",
   "execution_count": 10,
   "metadata": {},
   "outputs": [
    {
     "data": {
      "text/plain": [
       "InsertManyResult([ObjectId('66e7746f43ef52d37e998307'), ObjectId('66e7746f43ef52d37e998308'), ObjectId('66e7746f43ef52d37e998309'), ObjectId('66e7746f43ef52d37e99830a'), ObjectId('66e7746f43ef52d37e99830b'), ObjectId('66e7746f43ef52d37e99830c'), ObjectId('66e7746f43ef52d37e99830d'), ObjectId('66e7746f43ef52d37e99830e'), ObjectId('66e7746f43ef52d37e99830f'), ObjectId('66e7746f43ef52d37e998310'), ObjectId('66e7746f43ef52d37e998311'), ObjectId('66e7746f43ef52d37e998312'), ObjectId('66e7746f43ef52d37e998313'), ObjectId('66e7746f43ef52d37e998314'), ObjectId('66e7746f43ef52d37e998315'), ObjectId('66e7746f43ef52d37e998316'), ObjectId('66e7746f43ef52d37e998317'), ObjectId('66e7746f43ef52d37e998318'), ObjectId('66e7746f43ef52d37e998319'), ObjectId('66e7746f43ef52d37e99831a'), ObjectId('66e7746f43ef52d37e99831b'), ObjectId('66e7746f43ef52d37e99831c'), ObjectId('66e7746f43ef52d37e99831d'), ObjectId('66e7746f43ef52d37e99831e'), ObjectId('66e7746f43ef52d37e99831f'), ObjectId('66e7746f43ef52d37e998320'), ObjectId('66e7746f43ef52d37e998321'), ObjectId('66e7746f43ef52d37e998322'), ObjectId('66e7746f43ef52d37e998323'), ObjectId('66e7746f43ef52d37e998324'), ObjectId('66e7746f43ef52d37e998325'), ObjectId('66e7746f43ef52d37e998326'), ObjectId('66e7746f43ef52d37e998327'), ObjectId('66e7746f43ef52d37e998328'), ObjectId('66e7746f43ef52d37e998329'), ObjectId('66e7746f43ef52d37e99832a'), ObjectId('66e7746f43ef52d37e99832b'), ObjectId('66e7746f43ef52d37e99832c'), ObjectId('66e7746f43ef52d37e99832d'), ObjectId('66e7746f43ef52d37e99832e'), ObjectId('66e7746f43ef52d37e99832f'), ObjectId('66e7746f43ef52d37e998330'), ObjectId('66e7746f43ef52d37e998331'), ObjectId('66e7746f43ef52d37e998332'), ObjectId('66e7746f43ef52d37e998333'), ObjectId('66e7746f43ef52d37e998334'), ObjectId('66e7746f43ef52d37e998335'), ObjectId('66e7746f43ef52d37e998336'), ObjectId('66e7746f43ef52d37e998337'), ObjectId('66e7746f43ef52d37e998338'), ObjectId('66e7746f43ef52d37e998339'), ObjectId('66e7746f43ef52d37e99833a'), ObjectId('66e7746f43ef52d37e99833b'), ObjectId('66e7746f43ef52d37e99833c'), ObjectId('66e7746f43ef52d37e99833d'), ObjectId('66e7746f43ef52d37e99833e'), ObjectId('66e7746f43ef52d37e99833f'), ObjectId('66e7746f43ef52d37e998340'), ObjectId('66e7746f43ef52d37e998341'), ObjectId('66e7746f43ef52d37e998342'), ObjectId('66e7746f43ef52d37e998343'), ObjectId('66e7746f43ef52d37e998344'), ObjectId('66e7746f43ef52d37e998345'), ObjectId('66e7746f43ef52d37e998346'), ObjectId('66e7746f43ef52d37e998347'), ObjectId('66e7746f43ef52d37e998348'), ObjectId('66e7746f43ef52d37e998349'), ObjectId('66e7746f43ef52d37e99834a'), ObjectId('66e7746f43ef52d37e99834b'), ObjectId('66e7746f43ef52d37e99834c'), ObjectId('66e7746f43ef52d37e99834d'), ObjectId('66e7746f43ef52d37e99834e'), ObjectId('66e7746f43ef52d37e99834f'), ObjectId('66e7746f43ef52d37e998350'), ObjectId('66e7746f43ef52d37e998351'), ObjectId('66e7746f43ef52d37e998352'), ObjectId('66e7746f43ef52d37e998353'), ObjectId('66e7746f43ef52d37e998354'), ObjectId('66e7746f43ef52d37e998355'), ObjectId('66e7746f43ef52d37e998356'), ObjectId('66e7746f43ef52d37e998357'), ObjectId('66e7746f43ef52d37e998358'), ObjectId('66e7746f43ef52d37e998359'), ObjectId('66e7746f43ef52d37e99835a'), ObjectId('66e7746f43ef52d37e99835b'), ObjectId('66e7746f43ef52d37e99835c'), ObjectId('66e7746f43ef52d37e99835d'), ObjectId('66e7746f43ef52d37e99835e'), ObjectId('66e7746f43ef52d37e99835f'), ObjectId('66e7746f43ef52d37e998360'), ObjectId('66e7746f43ef52d37e998361'), ObjectId('66e7746f43ef52d37e998362'), ObjectId('66e7746f43ef52d37e998363'), ObjectId('66e7746f43ef52d37e998364'), ObjectId('66e7746f43ef52d37e998365'), ObjectId('66e7746f43ef52d37e998366'), ObjectId('66e7746f43ef52d37e998367'), ObjectId('66e7746f43ef52d37e998368'), ObjectId('66e7746f43ef52d37e998369'), ObjectId('66e7746f43ef52d37e99836a')], acknowledged=True)"
      ]
     },
     "execution_count": 10,
     "metadata": {},
     "output_type": "execute_result"
    }
   ],
   "source": [
    "with open('transactions_with_embeddings.json') as file:\n",
    "    file_data = json.load(file)\n",
    "collection.insert_many(file_data)"
   ]
  },
  {
   "cell_type": "code",
   "execution_count": 16,
   "metadata": {},
   "outputs": [],
   "source": [
    "def vector_search(new_transaction, num_results=5):\n",
    "    # Generate the embedding for the new transaction\n",
    "    query_embedding = generate_embedding(new_transaction)\n",
    "\n",
    "    # Define the search pipeline with vector search using the `Embedding` field\n",
    "    pipeline = [\n",
    "        {\n",
    "            '$search': {\n",
    "                \"cosmosSearch\": {\n",
    "                    \"vector\": query_embedding,  # The query vector (embedding of the new transaction)\n",
    "                    \"path\": \"Embedding\",  # The field that contains embeddings in the collection\n",
    "                    \"k\": num_results,  # Number of results to return\n",
    "                    \"efSearch\": 4,\n",
    "                #    \"filter\": {\"Fraud\": {\"neq\": \"False\"}}\n",
    "                },\n",
    "                \"returnStoredSource\": True\n",
    "            }\n",
    "        },\n",
    "        {\n",
    "            '$project': {\n",
    "                'similarityScore': { '$meta': 'searchScore' },  # Project the similarity score\n",
    "                'TransactionID': 1,  # Project relevant fields\n",
    "                'Amount': 1,\n",
    "                'Timestamp': 1,\n",
    "                'Location': 1,\n",
    "                'Merchant': 1,\n",
    "                'Fraud': 1\n",
    "            }\n",
    "        }\n",
    "    ]\n",
    "\n",
    "    # Execute the aggregation pipeline in Cosmos DB\n",
    "    results = collection.aggregate(pipeline)\n",
    "    \n",
    "    \n",
    "    return results\n",
    "\n"
   ]
  },
  {
   "cell_type": "code",
   "execution_count": 20,
   "metadata": {},
   "outputs": [
    {
     "name": "stdout",
     "output_type": "stream",
     "text": [
      "{'_id': ObjectId('66e7746f43ef52d37e998342'), 'TransactionID': 'T1805', 'Amount': 27.51, 'Timestamp': '2024-09-15 14:27:38', 'Location': 'Texas', 'Merchant': 'Random Store', 'Fraud': True, 'similarityScore': 0.846534210856657}\n",
      "{'_id': ObjectId('66e7746f43ef52d37e99835b'), 'TransactionID': 'T6029', 'Amount': 22.22, 'Timestamp': '2024-09-15 14:20:38', 'Location': 'Texas', 'Merchant': 'Unrecognized Merchant', 'Fraud': True, 'similarityScore': 0.8330469131469727}\n",
      "{'_id': ObjectId('66e7746f43ef52d37e998366'), 'TransactionID': 'T1263', 'Amount': 10.66, 'Timestamp': '2024-09-15 14:21:38', 'Location': 'Texas', 'Merchant': 'Unrecognized Merchant', 'Fraud': True, 'similarityScore': 0.8305064687283779}\n",
      "{'_id': ObjectId('66e7746f43ef52d37e998317'), 'TransactionID': 'T6345', 'Amount': 60.86, 'Timestamp': '2024-09-15 13:58:38', 'Location': 'Texas', 'Merchant': 'Unrecognized Merchant', 'Fraud': True, 'similarityScore': 0.8300263386949114}\n",
      "TransactionID: T5978, Location: Texas, Merchant: XYZ\n"
     ]
    }
   ],
   "source": [
    "# Example new transaction (replace with actual transaction data)\n",
    "new_transaction = {\n",
    "    \"TransactionID\": \"T5978\",\n",
    "    \"Amount\": 1005.00,\n",
    "    \"Timestamp\": \"2024-09-15 14:30:00\",\n",
    "    \"Location\": \"Texas\",\n",
    "    \"Merchant\": \"XYZ\"\n",
    "}\n",
    "\n",
    "new_transaction_text=f\"TransactionID: {new_transaction['TransactionID']}, Timestamp: {new_transaction['Timestamp']}, Location: {new_transaction['Location']}, Merchant{new_transaction['Merchant']}\"\n",
    "\n",
    "# Perform the vector search and get the top 5 most similar fraudulent transactions\n",
    "results = vector_search(new_transaction_text, num_results=5)\n",
    "# Output results\n",
    "for r in results:\n",
    "    print(r) \n",
    "print(f\"TransactionID: {new_transaction['TransactionID']}, Location: {new_transaction['Location']}, Merchant: {new_transaction['Merchant']}\")\n"
   ]
  },
  {
   "cell_type": "code",
   "execution_count": null,
   "metadata": {},
   "outputs": [],
   "source": [
    "# TODO currently using location as a primary for vector search"
   ]
  },
  {
   "cell_type": "markdown",
   "metadata": {},
   "source": [
    "Sample MongoDB logic to detect fraud"
   ]
  },
  {
   "cell_type": "code",
   "execution_count": null,
   "metadata": {},
   "outputs": [],
   "source": [
    "import pymongo\n",
    "from dotenv import load_dotenv\n",
    "from sentence_transformers import SentenceTransformer\n",
    "from datetime import datetime, timedelta\n",
    "import numpy as np\n",
    "import os\n",
    "\n",
    "# Load environment variables from a .env file\n",
    "load_dotenv()\n",
    "\n",
    "# Connect to MongoDB\n",
    "mongo_uri = os.getenv(\"MONGODB_URI\")\n",
    "client = pymongo.MongoClient(mongo_uri)\n",
    "database_name = os.getenv(\"MONGODB_DB\")\n",
    "db = client[database_name]\n",
    "accounts = db['accounts']\n",
    "transactions = db['transactions']\n",
    "\n",
    "# Load Sentence Transformer model for generating embeddings\n",
    "model = SentenceTransformer('sentence-transformers/all-mpnet-base-v2')\n",
    "\n",
    "# Helper Function: Generate Embeddings for Text\n",
    "def get_embedding(text):\n",
    "    embedding = model.encode([text])[0]  # Get the vector representation of the text\n",
    "    return embedding.tolist()  # Convert numpy array to list for MongoDB storage\n",
    "\n",
    "# Helper Function: Fraud Encode (Generates text from transaction details)\n",
    "def fraud_encode(doc, near=1000):\n",
    "    pipeline = [\n",
    "        {'$match': {'originator_id': doc[\"originator_id\"]}},\n",
    "        {'$group': {\n",
    "            '_id': '$originator_id',\n",
    "            'std': {'$stdDevSamp': '$transaction_amount'},\n",
    "            'mdn': {'$median': {'input': '$transaction_amount', 'method': 'approximate'}}\n",
    "        }}\n",
    "    ]\n",
    "    result = list(transactions.aggregate(pipeline))\n",
    "\n",
    "    filter_ = {\n",
    "        'originator_id': doc[\"originator_id\"],\n",
    "        'transaction_date': {'$gte': doc[\"transaction_date\"] - timedelta(hours=1), '$lte': doc[\"transaction_date\"]}\n",
    "    }\n",
    "    recent_transactions = list(transactions.find(filter_, {\"transaction_amount\": 1, \"_id\": 0}))\n",
    "    total_amount = sum(item['transaction_amount'] for item in recent_transactions)\n",
    "    num_recent_transactions = len(recent_transactions)\n",
    "\n",
    "    acc = list(accounts.find({'_id': doc[\"originator_id\"]}))[0]\n",
    "    first_transaction = transactions.count_documents({'originator_id': doc[\"originator_id\"], 'beneficiary_id': doc[\"beneficiary_id\"]})\n",
    "\n",
    "    text = f\"A transaction of ${doc['transaction_amount']} was made by {doc['originator_id']}.\"\n",
    "    if first_transaction == 1:\n",
    "        text += \" This is the first transaction between the originator and beneficiary.\"\n",
    "    if doc[\"transaction_amount\"] > acc[\"transaction-limits\"][\"max-transaction-limit\"]:\n",
    "        text += \" The transaction exceeds the originator's maximum transaction limit.\"\n",
    "    elif doc[\"transaction_amount\"] > result[0][\"mdn\"] + result[0][\"std\"]:\n",
    "        text += f\" The transaction amount is unusually high compared to previous transactions.\"\n",
    "\n",
    "    if num_recent_transactions > 1:\n",
    "        text += f\" There were {num_recent_transactions} transactions within the last hour totaling ${total_amount}.\"\n",
    "    return text\n",
    "\n",
    "# Vector Search Pipeline\n",
    "def vector_search_pipeline(limit, query_vector):\n",
    "    pipeline = [\n",
    "        {\"$vectorSearch\": {\n",
    "            \"index\": \"fraud\",\n",
    "            \"path\": \"fraud_vectors\",\n",
    "            \"limit\": limit,\n",
    "            \"numCandidates\": 10000,\n",
    "            \"queryVector\": query_vector\n",
    "        }},\n",
    "        {\"$project\": {\"test\": \"$fraud\"}},\n",
    "        {\"$group\": {\n",
    "            \"_id\": None,\n",
    "            \"total\": {\"$sum\": \"$test\"}\n",
    "        }}\n",
    "    ]\n",
    "    return pipeline\n",
    "\n",
    "# Function to Detect Fraud for a Given Transaction by its ID\n",
    "def detect_fraud(transaction_id):\n",
    "    doc = transactions.find_one({\"_id\": transaction_id})\n",
    "    \n",
    "    if not doc:\n",
    "        return {\"error\": \"Transaction not found!\"}\n",
    "    \n",
    "    # Ensure that the transaction has a valid date and fraud_vectors\n",
    "    if isinstance(doc[\"transaction_date\"], str):\n",
    "        doc[\"transaction_date\"] = datetime.strptime(doc[\"transaction_date\"], '%Y-%m-%dT%H:%M:%S.%f%z')\n",
    "\n",
    "    if \"fraud_vectors\" not in doc or not doc[\"fraud_vectors\"]:\n",
    "        fraud_text = fraud_encode(doc)\n",
    "        doc[\"fraud_vectors\"] = get_embedding(fraud_text)\n",
    "        transactions.update_one({'_id': doc[\"_id\"]}, {'$set': {\"fraud_vectors\": doc[\"fraud_vectors\"]}})\n",
    "\n",
    "    # Perform vector search for potential fraud detection\n",
    "    limit = 4000  # Example limit for search\n",
    "    fraud_result = list(transactions.aggregate(vector_search_pipeline(limit, doc[\"fraud_vectors\"])))\n",
    "\n",
    "    # Evaluate result based on search results\n",
    "    set_doc = {}\n",
    "    if fraud_result[0][\"total\"] >= np.floor(limit / 2):\n",
    "        set_doc[\"fraud_detected\"] = True\n",
    "    else:\n",
    "        set_doc[\"fraud_detected\"] = False\n",
    "\n",
    "    # Update the transaction document with fraud detection result\n",
    "    transactions.update_one({'_id': doc[\"_id\"]}, {'$set': set_doc})\n",
    "\n",
    "    return set_doc\n",
    "\n",
    "# Example Usage: Detect fraud for a specific transaction by its ID\n",
    "from bson import ObjectId\n",
    "\n",
    "# Replace 'your_transaction_id_here' with an actual ObjectId from your MongoDB\n",
    "transaction_id = ObjectId(\"your_transaction_id_here\")\n",
    "\n",
    "# Detect fraud\n",
    "fraud_detection_result = detect_fraud(transaction_id)\n",
    "print(fraud_detection_result)\n"
   ]
  }
 ],
 "metadata": {
  "kernelspec": {
   "display_name": "Python 3",
   "language": "python",
   "name": "python3"
  },
  "language_info": {
   "codemirror_mode": {
    "name": "ipython",
    "version": 3
   },
   "file_extension": ".py",
   "mimetype": "text/x-python",
   "name": "python",
   "nbconvert_exporter": "python",
   "pygments_lexer": "ipython3",
   "version": "3.11.9"
  }
 },
 "nbformat": 4,
 "nbformat_minor": 2
}
